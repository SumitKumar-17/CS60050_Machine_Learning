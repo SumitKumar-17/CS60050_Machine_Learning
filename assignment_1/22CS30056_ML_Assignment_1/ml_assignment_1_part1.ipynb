{
  "cells": [
    {
      "cell_type": "markdown",
      "metadata": {
        "id": "emjAQ_34SozP",
        "tags": []
      },
      "source": [
        "# Programming Assignment 1"
      ]
    },
    {
      "cell_type": "markdown",
      "metadata": {
        "id": "tKkKCHwsSozQ"
      },
      "source": [
        "In Part 1, you have to implement a linear regression model to predict the price of a house based on various input features.\n",
        "\n",
        "You have to write your code in this jupyter notebook and submit the solved jupyter notebook with the file name \\<Roll_No\\>_A1_1.ipynb for evaluation. You have to enter your code only in those cells which are marked as ```## CODE REQUIRED ##```, and you have to write your code only between ```### START CODE HERE ###``` and ```### END CODE HERE ###``` comments."
      ]
    },
    {
      "cell_type": "markdown",
      "metadata": {
        "id": "jHPf8pHpSozR"
      },
      "source": [
        "## Part 1: Linear Regression\n",
        "\n",
        "### Problem Statement  \n",
        "A real estate company is building a machine learning model to determine the price of a house. The model will take various information regarding a house as input features and predict the price per unit area. They decided to use the linear regression as the machine learning model. Your task is to help the company to build the model.\n",
        "Given various features of a house, you will create a linear regression model to predict the price of the house.\n",
        "\n",
        "### Data Description\n",
        "\n",
        "Dataset Filename: `housing_dataset.csv`\n",
        "\n",
        "Attributes Information:\n",
        "1. CRIM: per capita crime rate by town\n",
        "2. ZN: proportion of residential land zoned for lots over 25,000 sq.ft.\n",
        "3. INDUS: proportion of non-­retail business acres per town\n",
        "4. CHAS: Charles River dummy variable (= 1 if tract bounds river; 0 otherwise)\n",
        "5. NOX: nitric oxides concentration (parts per 10 million)\n",
        "6. RM: average number of rooms per dwelling\n",
        "7. AGE: proportion of owner­occupied units built prior to 1940\n",
        "8. DIS: weighted distances to five Boston employment centres\n",
        "9. RAD: index of accessibility to radial highways\n",
        "10. TAX: full-­value property-­tax rate per $10,000\n",
        "\n",
        "11. PTRATIO: pupil-­teacher ratio by town\n",
        "12. B: 1000(Bk ­- 0.63)^2 where Bk is the proportion of blacks by town\n",
        "13. LSTAT: % lower status of the population\n",
        "\n",
        "Target Variable: MEDV: Median value of owner-­occupied homes in $1000's\n",
        "\n",
        "\n",
        "These are the following steps or functions that you have to complete to create and train the linear regression model:\n",
        "1. Reading the data\n",
        "2. Computing the loss function\n",
        "3. Computing the gradient of the loss\n",
        "4. Training the model using Batch Gradient Descent\n"
      ]
    },
    {
      "cell_type": "code",
      "execution_count": 3,
      "metadata": {
        "id": "rJDNL8y8SozR",
        "tags": []
      },
      "outputs": [],
      "source": [
        "import numpy as np\n",
        "import pandas as pd\n",
        "import matplotlib.pyplot as plt\n",
        "import copy\n",
        "import math\n",
        "import random"
      ]
    },
    {
      "cell_type": "markdown",
      "metadata": {
        "id": "S5ExYIXiSozS"
      },
      "source": [
        "### 1.1. Reading the data"
      ]
    },
    {
      "cell_type": "markdown",
      "metadata": {
        "id": "FgnxuEDkSozS"
      },
      "source": [
        "In the following function ```load_data```, you have to read the data from the file and store the data into a pandas dataframe. Then you have to create two numpy arrays $X$ and $y$ from the dataframe:\n",
        "\n",
        "+ $X$: Input data of the shape (number of samples, number of input features)\n",
        "+ $y$: Target variable of the shape (number of samples,)\n"
      ]
    },
    {
      "cell_type": "code",
      "execution_count": 4,
      "metadata": {
        "id": "DEal5SFmSozS",
        "tags": [],
        "colab": {
          "base_uri": "https://localhost:8080/"
        },
        "outputId": "312f338a-9106-4652-8ff2-d65716fd15bb"
      },
      "outputs": [
        {
          "output_type": "stream",
          "name": "stdout",
          "text": [
            "Shape of X:  (404, 13) Shape of y:  (404,)\n"
          ]
        }
      ],
      "source": [
        "## CODE REQUIRED ##\n",
        "\n",
        "def load_data(filepath):\n",
        "    \"\"\"\n",
        "    This function loads the data into a pandas dataframe and coverts it into X and y numpy arrays\n",
        "\n",
        "    Args:\n",
        "        filepath: File path as a string\n",
        "    Returns:\n",
        "        X: Input data of the shape (# of samples, # of input features)\n",
        "        y: Target variable of the shape (# of sample,)\n",
        "    \"\"\"\n",
        "\n",
        "    ### START CODE HERE ###\n",
        "    df=pd.read_csv(filepath)\n",
        "    X=df.drop('MEDV',axis=1).values\n",
        "    y=df['MEDV'].values\n",
        "\n",
        "    ### END CODE HERE ###\n",
        "\n",
        "    return X,y\n",
        "\n",
        "filepath = None\n",
        "### START CODE HERE ###\n",
        "## set the file path\n",
        "filepath ='content/housing_dataset.csv'\n",
        "### END CODE HERE ###\n",
        "X, y = load_data(filepath)\n",
        "\n",
        "print(\"Shape of X: \",X.shape, \"Shape of y: \",y.shape)"
      ]
    },
    {
      "cell_type": "markdown",
      "metadata": {
        "id": "4FAc8UixtqLS"
      },
      "source": [
        "We need to pre-process the data. We are using min-max scaler to scale the input data ($X$).\n",
        "\n",
        "After that, we split the data (```X``` and ```y```) into a training dataset (```X_train``` and ```y_train```) and test dataset (```X_test``` and ```y_test```)."
      ]
    },
    {
      "cell_type": "code",
      "execution_count": 5,
      "metadata": {
        "id": "LLmD1I3-SozT",
        "tags": [],
        "colab": {
          "base_uri": "https://localhost:8080/"
        },
        "outputId": "6f85d078-0f14-4314-fcff-f74110945f1a"
      },
      "outputs": [
        {
          "output_type": "stream",
          "name": "stdout",
          "text": [
            "Shape of X_train:  (303, 13) Shape of y_train:  (303,)\n",
            "Shape of X_test:  (101, 13) Shape of y_test:  (101,)\n"
          ]
        }
      ],
      "source": [
        "## Data scaling and train-test split\n",
        "\n",
        "def train_test_split(X, y, test_size=0.25, random_state=None):\n",
        "    if random_state is not None:\n",
        "        np.random.seed(random_state)\n",
        "    indices = np.arange(X.shape[0])\n",
        "    np.random.shuffle(indices)\n",
        "\n",
        "    split_index = int(X.shape[0] * (1 - test_size))\n",
        "\n",
        "    train_indices = indices[:split_index]\n",
        "    test_indices = indices[split_index:]\n",
        "\n",
        "    X_train = X[train_indices]\n",
        "    X_test = X[test_indices]\n",
        "    y_train = y[train_indices]\n",
        "    y_test = y[test_indices]\n",
        "\n",
        "    return X_train, X_test, y_train, y_test\n",
        "\n",
        "def min_max_scaler(X, feature_range=(0, 1)):\n",
        "    X_min = np.min(X, axis=0)\n",
        "    X_max = np.max(X, axis=0)\n",
        "\n",
        "    X_scaled = (X-X_min)/(X_max-X_min)\n",
        "\n",
        "    return X_scaled\n",
        "\n",
        "\n",
        "X = min_max_scaler(X)\n",
        "X_train, X_test, y_train, y_test = train_test_split(X, y, test_size=0.25, random_state=42)\n",
        "print(\"Shape of X_train: \",X_train.shape, \"Shape of y_train: \",y_train.shape)\n",
        "print(\"Shape of X_test: \",X_test.shape, \"Shape of y_test: \",y_test.shape)"
      ]
    },
    {
      "cell_type": "markdown",
      "metadata": {
        "id": "xrFEUV2-SozU"
      },
      "source": [
        "### 1.2. Computing the Loss Function"
      ]
    },
    {
      "cell_type": "markdown",
      "metadata": {
        "id": "I1BC0TPCSozU"
      },
      "source": [
        "In linear regression, the model parameters are:\n",
        "\n",
        "+ $w$: Parameters of the linear regression model (excluding the bias) of the shape (1, number of features)\n",
        "\n",
        "+ $b$: Bias parameter (scalar) of the linear regression model\n",
        "\n",
        "Both $w$ and $b$ are numpy arrays.\n",
        "\n",
        "Given the model parameters $w$ and $b$, the prediction for an input sample $X^i$ is:\n",
        "$$h_{w,b}(X^i) = w \\cdot X^i + b$$\n",
        "where $X^i$ is the $i^{th}$ training sample with shape (number of features,1)\n",
        "\n",
        "For linear regression, you have to implement and compute Mean Squarred Error loss fucntion:\n",
        "$$ L_{w,b}(X) = \\sum_{i=1}^{m}(y^i - h_{w,b}(X^i))^2 $$\n",
        "where $y^i$ is the true target value for the $i^{th}$ sample and $h_{w,b}(X^i)$ is the predicted value for the $i^{th}$ sample using the parameters $w$ and $b$.\n",
        "\n",
        "$w$ is the list of parameters excluding the bias and $b$ is the bias term."
      ]
    },
    {
      "cell_type": "code",
      "execution_count": 6,
      "metadata": {
        "id": "t6GqZMlYSozV",
        "tags": []
      },
      "outputs": [],
      "source": [
        "## CODE REQUIRED ##\n",
        "\n",
        "def loss_function(X, y, w, b):\n",
        "    \"\"\"\n",
        "    Computes the cost function for linear regression.\n",
        "\n",
        "    Args:\n",
        "        X: Input data of the shape (# of training samples, # of input features)\n",
        "        y: Target variable of the shape (# of training sample,)\n",
        "        w: Parameters of the linear regression model (excluding the bias) of the shape (1, number of features)\n",
        "        b: Bias parameter (scalar) of the linear regression model\n",
        "\n",
        "    Returns\n",
        "        loss: The loss function value of using w and b as the parameters to fit the data points in X and y\n",
        "    \"\"\"\n",
        "    # number of training examples\n",
        "    m = X.shape[0]\n",
        "\n",
        "    ### START CODE HERE ###\n",
        "    w=w.reshape(-1)\n",
        "    y_pred = np.dot(X,w.T) + b\n",
        "    loss = np.sum((y_pred - y)**2) / (2 * m)\n",
        "\n",
        "    ### END CODE HERE ###\n",
        "\n",
        "    return loss"
      ]
    },
    {
      "cell_type": "markdown",
      "metadata": {
        "id": "l0h7jhxGSozV"
      },
      "source": [
        "### 1.3. Comptuing the Gradient of the Loss\n",
        "\n",
        "In this following function ```compute_gradient```, you have to compute the gradients $\\frac{\\partial L}{\\partial w}$ and $\\frac{\\partial L}{\\partial b}$ of the loss $L$ w.r.t. $w$ and $b$. More specifically, you have to iterate over every training example and compute the gradients of the loss for that training example. Finally, aggregate the gradient values for all the training examples and take the average. The gradients can be computed as:\n",
        "$$\\frac{\\partial L}{\\partial w} = \\frac{1}{m} \\sum_{i=1}^m (h_{w,b}(X^i)-y^i)X^i$$\n",
        "\n",
        "$$\\frac{\\partial L}{\\partial b} = \\frac{1}{m} \\sum_{i=1}^{m} (h_{w,b}(X^i)-y^i)$$\n"
      ]
    },
    {
      "cell_type": "code",
      "execution_count": 7,
      "metadata": {
        "id": "do-IiCTZSozV",
        "tags": []
      },
      "outputs": [],
      "source": [
        "## CODE REQUIRED ##\n",
        "\n",
        "def compute_gradient(X, y, w, b):\n",
        "    \"\"\"\n",
        "    Computes the gradient values\n",
        "    Args:\n",
        "       X: Input data of the shape (# of training samples, # of input features)\n",
        "       y: Target variable of the shape (# of training sample,)\n",
        "       w: Parameters of the linear regression model (excluding the bias) of the shape (1, number of features)\n",
        "       b: Bias parameter of the linear regression model of the shape (1,1) or a scaler\n",
        "    Returns:\n",
        "       dL_dw : The gradient of the cost w.r.t. the parameters w with shape same as w\n",
        "       dL_db : The gradient of the cost w.r.t. the parameter b with shape same as b\n",
        "    \"\"\"\n",
        "\n",
        "    # Number of training examples\n",
        "    m = X.shape[0]\n",
        "\n",
        "    dL_dw = None\n",
        "    dL_db = None\n",
        "\n",
        "    ### START CODE HERE ###\n",
        "    dL_dw=0\n",
        "    dL_db=0\n",
        "    for i in range(m):\n",
        "      dL_dw+=(np.dot(w,X[i])+b-y[i])*X[i]\n",
        "      dL_db+=(np.dot(w,X[i])+b-y[i])\n",
        "    dL_dw = dL_dw/m\n",
        "    dL_db = dL_db/m\n",
        "    ### END CODE HERE ###\n",
        "    return dL_dw, dL_db"
      ]
    },
    {
      "cell_type": "markdown",
      "metadata": {
        "id": "uYL1jWaZSozV"
      },
      "source": [
        "### 1.4. Training the Model using Batch Gradient Descent"
      ]
    },
    {
      "cell_type": "markdown",
      "metadata": {
        "id": "2vwyRzWqSozV"
      },
      "source": [
        "Finally, you have to implement the batch gradient descent algorithm to train and learn the parameters of the linear regression model. You have to use ```loss_function``` and ```compute_gradient``` functions that you have implemented earlier in this assignment.\n",
        "\n",
        "In this ```batch_gradient_descent``` function, you have to compute the gradient for the training samples and update the parameters $w$ and $b$ in every iteration:\n",
        "\n",
        "+ $w \\leftarrow w - \\alpha \\frac{\\partial L}{\\partial w}$\n",
        "\n",
        "+ $b \\leftarrow b - \\alpha \\frac{\\partial L}{\\partial b}$\n",
        "\n",
        "Additionally, you have compute the loss function values in every iteration and store it in the list variable ```loss_hist``` and print the loss value after every 100 iterations during the training process."
      ]
    },
    {
      "cell_type": "code",
      "execution_count": 8,
      "metadata": {
        "id": "UHKldb3hSozV",
        "tags": []
      },
      "outputs": [],
      "source": [
        "## CODE REQUIRED ##\n",
        "\n",
        "def batch_gradient_descent(X, y, w_initial, b_initial, alpha, num_iters):\n",
        "    \"\"\"\n",
        "    Batch gradient descent to learn the parameters (w and b) of the linear regression model and to print loss values\n",
        "    every 100 iterations\n",
        "\n",
        "    Args:\n",
        "        X: Input data of the shape (# of training samples, # of input features)\n",
        "        y: Target variable of the shape (# of training sample,)\n",
        "        w_initial: Initial parameters of the linear regression model (excluding the bias) of the shape (1, number of features)\n",
        "        b_initial: Initial bias parameter (scalar) of the linear regression model\n",
        "        alpha: Learning rate\n",
        "        num_iters: number of iterations\n",
        "    Returns\n",
        "        w: Updated values of parameters of the model after training\n",
        "        b: Updated bias of the model after training\n",
        "        loss_hist: List of loss values for every iteration\n",
        "    \"\"\"\n",
        "\n",
        "    # number of training examples\n",
        "    m = X.shape[0]\n",
        "\n",
        "    # to store loss values for every iteation as a list and print loss value after every 100 iterations\n",
        "    loss_hist = []\n",
        "\n",
        "    # Initialize parameters\n",
        "    w = copy.deepcopy(w_initial) ## deepcopy is used so that the updates do not change the initial variable values\n",
        "    b = b_initial\n",
        "\n",
        "    ### START CODE HERE ###\n",
        "    for i in range(0,num_iters):\n",
        "      dL_dw, dL_db = compute_gradient(X, y, w, b)\n",
        "      w = w - alpha * dL_dw\n",
        "      b = b - alpha * dL_db\n",
        "      loss = loss_function(X, y, w, b)\n",
        "      loss_hist.append(loss)\n",
        "      if i % 100 == 0:\n",
        "            print(f\"Iteration {i}: Loss = {loss}\")\n",
        "\n",
        "\n",
        "    ### END CODE HERE ###\n",
        "\n",
        "    return w, b, loss_hist"
      ]
    },
    {
      "cell_type": "markdown",
      "metadata": {
        "id": "y0h3DUMwNocp"
      },
      "source": [
        "Now you have to intialize the model parameters ($w$ and $b$) and learning rate (```alpha```). The learning rate ```alpha``` is to be initialized as 0.001."
      ]
    },
    {
      "cell_type": "code",
      "execution_count": 9,
      "metadata": {
        "id": "Xd8QFReNDyGs"
      },
      "outputs": [],
      "source": [
        "## CODE REQUIRED ##\n",
        "\n",
        "def initialize_parameters():\n",
        "    \"\"\"\n",
        "    This function randomly initializes the model parameters (w and b) and the hyperparameter alpha\n",
        "    Initial w and b should be randomly sampled from a normal distribution with mean 0\n",
        "    alpha should be initialized as 0.001\n",
        "    Args:\n",
        "        None\n",
        "    Returns:\n",
        "        initial_w: Initial parameters of the linear regression model (excluding the bias) of the shape (1, number of features)\n",
        "        initial_b: Initial bias parameter (scalar) of the linear regression model\n",
        "        alpha: Learning rate\n",
        "    \"\"\"\n",
        "\n",
        "    initial_w = None\n",
        "    initial_b = None\n",
        "    alpha = None\n",
        "\n",
        "    ### START CODE HERE ###\n",
        "    initial_b = np.random.randn(1)\n",
        "    initial_w = np.random.randn(1,X_train.shape[1])\n",
        "    alpha = 0.001\n",
        "\n",
        "\n",
        "    ### END CODE HERE ###\n",
        "\n",
        "    return initial_w,initial_b,alpha\n"
      ]
    },
    {
      "cell_type": "markdown",
      "metadata": {
        "id": "l7nt5VdORUEu"
      },
      "source": [
        "In the next cell, the model is trained using batch gradient descent algorithm for ```num_iters=10000``` iterations. You can change the number of iterations to check any improvements in the performance."
      ]
    },
    {
      "cell_type": "code",
      "execution_count": 10,
      "metadata": {
        "id": "9rAYubtASozV",
        "tags": [],
        "colab": {
          "base_uri": "https://localhost:8080/"
        },
        "outputId": "afb6b2ac-a253-4688-ea61-72842b105194"
      },
      "outputs": [
        {
          "output_type": "stream",
          "name": "stdout",
          "text": [
            "Iteration 0: Loss = 286.8930310752566\n",
            "Iteration 100: Loss = 166.77625586080316\n",
            "Iteration 200: Loss = 108.73718175795163\n",
            "Iteration 300: Loss = 80.27867825503492\n",
            "Iteration 400: Loss = 65.93983297892349\n",
            "Iteration 500: Loss = 58.363393348505035\n",
            "Iteration 600: Loss = 54.0468927053014\n",
            "Iteration 700: Loss = 51.32161840291998\n",
            "Iteration 800: Loss = 49.39127589332581\n",
            "Iteration 900: Loss = 47.87470851853197\n",
            "Iteration 1000: Loss = 46.58837713037076\n",
            "Iteration 1100: Loss = 45.44288453076876\n",
            "Iteration 1200: Loss = 44.39374709615226\n",
            "Iteration 1300: Loss = 43.41797020524487\n",
            "Iteration 1400: Loss = 42.5028980554882\n",
            "Iteration 1500: Loss = 41.640902431920466\n",
            "Iteration 1600: Loss = 40.82684931606987\n",
            "Iteration 1700: Loss = 40.05688725517835\n",
            "Iteration 1800: Loss = 39.32786486385736\n",
            "Iteration 1900: Loss = 38.637047975579954\n",
            "Iteration 2000: Loss = 37.981979696838195\n",
            "Iteration 2100: Loss = 37.3604087817558\n",
            "Iteration 2200: Loss = 36.77025082905922\n",
            "Iteration 2300: Loss = 36.20956539549327\n",
            "Iteration 2400: Loss = 35.67654096466643\n",
            "Iteration 2500: Loss = 35.169483918731196\n",
            "Iteration 2600: Loss = 34.6868096632584\n",
            "Iteration 2700: Loss = 34.227035009488446\n",
            "Iteration 2800: Loss = 33.78877137286829\n",
            "Iteration 2900: Loss = 33.37071856404112\n",
            "Iteration 3000: Loss = 32.97165905269761\n",
            "Iteration 3100: Loss = 32.59045263512527\n",
            "Iteration 3200: Loss = 32.226031461067976\n",
            "Iteration 3300: Loss = 31.877395388030553\n",
            "Iteration 3400: Loss = 31.543607637811363\n",
            "Iteration 3500: Loss = 31.223790733854667\n",
            "Iteration 3600: Loss = 30.91712270043091\n",
            "Iteration 3700: Loss = 30.622833506368966\n",
            "Iteration 3800: Loss = 30.340201737410194\n",
            "Iteration 3900: Loss = 30.06855148239008\n",
            "Iteration 4000: Loss = 29.807249419457317\n",
            "Iteration 4100: Loss = 29.55570208945182\n",
            "Iteration 4200: Loss = 29.31335334440317\n",
            "Iteration 4300: Loss = 29.079681959890163\n",
            "Iteration 4400: Loss = 28.854199400728884\n",
            "Iteration 4500: Loss = 28.636447730134606\n",
            "Iteration 4600: Loss = 28.425997653137188\n",
            "Iteration 4700: Loss = 28.22244668562222\n",
            "Iteration 4800: Loss = 28.02541744092514\n",
            "Iteration 4900: Loss = 27.834556026424224\n",
            "Iteration 5000: Loss = 27.649530543063893\n",
            "Iteration 5100: Loss = 27.470029681194504\n",
            "Iteration 5200: Loss = 27.29576140653925\n",
            "Iteration 5300: Loss = 27.126451730497077\n",
            "Iteration 5400: Loss = 26.96184355936265\n",
            "Iteration 5500: Loss = 26.80169561739247\n",
            "Iteration 5600: Loss = 26.645781438972318\n",
            "Iteration 5700: Loss = 26.493888425446286\n",
            "Iteration 5800: Loss = 26.34581696245264\n",
            "Iteration 5900: Loss = 26.201379593879132\n",
            "Iteration 6000: Loss = 26.0604002488\n",
            "Iteration 6100: Loss = 25.92271351799084\n",
            "Iteration 6200: Loss = 25.7881639768362\n",
            "Iteration 6300: Loss = 25.656605551649413\n",
            "Iteration 6400: Loss = 25.527900926615942\n",
            "Iteration 6500: Loss = 25.40192098875041\n",
            "Iteration 6600: Loss = 25.27854430842562\n",
            "Iteration 6700: Loss = 25.15765665318834\n",
            "Iteration 6800: Loss = 25.039150532723948\n",
            "Iteration 6900: Loss = 24.92292477296902\n",
            "Iteration 7000: Loss = 24.808884117499822\n",
            "Iteration 7100: Loss = 24.696938854444856\n",
            "Iteration 7200: Loss = 24.587004467282135\n",
            "Iteration 7300: Loss = 24.47900130798746\n",
            "Iteration 7400: Loss = 24.372854291098108\n",
            "Iteration 7500: Loss = 24.268492607349074\n",
            "Iteration 7600: Loss = 24.165849455624965\n",
            "Iteration 7700: Loss = 24.0648617920515\n",
            "Iteration 7800: Loss = 23.965470095126285\n",
            "Iteration 7900: Loss = 23.86761814585903\n",
            "Iteration 8000: Loss = 23.771252821957628\n",
            "Iteration 8100: Loss = 23.676323905158622\n",
            "Iteration 8200: Loss = 23.58278390085808\n",
            "Iteration 8300: Loss = 23.490587869253616\n",
            "Iteration 8400: Loss = 23.399693267258705\n",
            "Iteration 8500: Loss = 23.310059800497964\n",
            "Iteration 8600: Loss = 23.221649284736586\n",
            "Iteration 8700: Loss = 23.13442551613857\n",
            "Iteration 8800: Loss = 23.048354149787304\n",
            "Iteration 8900: Loss = 22.963402585938574\n",
            "Iteration 9000: Loss = 22.879539863509876\n",
            "Iteration 9100: Loss = 22.796736560342044\n",
            "Iteration 9200: Loss = 22.71496469979882\n",
            "Iteration 9300: Loss = 22.634197663298057\n",
            "Iteration 9400: Loss = 22.55441010839412\n",
            "Iteration 9500: Loss = 22.475577892055803\n",
            "Iteration 9600: Loss = 22.397677998806675\n",
            "Iteration 9700: Loss = 22.320688473416215\n",
            "Iteration 9800: Loss = 22.244588357850247\n",
            "Iteration 9900: Loss = 22.169357632207713\n",
            "Updated w:  [[-0.62488634  3.09657005 -2.94105459  3.4168823   0.1461303  13.13016667\n",
            "   0.92810044  1.42020795 -1.02177792 -1.14210576 -1.09291005 10.98771567\n",
            "  -5.55203246]]\n",
            "Updated b:  [9.10531126]\n"
          ]
        }
      ],
      "source": [
        "# initialize the parameters and hyperparameter\n",
        "initial_w, initial_b, alpha = initialize_parameters()\n",
        "\n",
        "# number of iterations\n",
        "num_iters = 10000\n",
        "\n",
        "w,b,loss_hist = batch_gradient_descent(X_train ,y_train, initial_w, initial_b, alpha, num_iters)\n",
        "print(\"Updated w: \",w)\n",
        "print(\"Updated b: \",b)"
      ]
    },
    {
      "cell_type": "markdown",
      "metadata": {
        "id": "sluek2LkSozW"
      },
      "source": [
        "### 1.5. Final Train Error and Test Error"
      ]
    },
    {
      "cell_type": "markdown",
      "metadata": {
        "id": "EH9oHC10fAlV"
      },
      "source": [
        "After the linear regression model is trained, we will compute the final train error and test error for the trained model."
      ]
    },
    {
      "cell_type": "code",
      "execution_count": 11,
      "metadata": {
        "id": "UIXb7sSvSozW",
        "tags": [],
        "colab": {
          "base_uri": "https://localhost:8080/"
        },
        "outputId": "5f8b7388-0886-42ce-91ad-9b4c700b7600"
      },
      "outputs": [
        {
          "output_type": "stream",
          "name": "stdout",
          "text": [
            "Train Error:  22.095716816137756 , Test Error:  14.629179503557742\n"
          ]
        }
      ],
      "source": [
        "## Train and Test error computation\n",
        "\n",
        "train_error = loss_function(X_train,y_train,w,b)\n",
        "test_error = loss_function(X_test,y_test,w,b)\n",
        "print(\"Train Error: \",train_error, \", Test Error: \",test_error)"
      ]
    },
    {
      "cell_type": "markdown",
      "metadata": {
        "id": "eximd12PbAgC"
      },
      "source": [
        "### 1.6. Plotting the loss function"
      ]
    },
    {
      "cell_type": "markdown",
      "metadata": {
        "id": "meDwLCCIfOBo"
      },
      "source": [
        "We will plot the loss function values for every training iteration. If the model is trained properly, you will see that the loss function reduces as the training progesses and it converges at some point."
      ]
    },
    {
      "cell_type": "code",
      "execution_count": 12,
      "metadata": {
        "id": "DW4bue0oSozW",
        "colab": {
          "base_uri": "https://localhost:8080/",
          "height": 455
        },
        "outputId": "1ca52897-a8ca-4c03-9632-c7433f0fc6a1"
      },
      "outputs": [
        {
          "output_type": "display_data",
          "data": {
            "text/plain": [
              "<Figure size 640x480 with 1 Axes>"
            ],
            "image/png": "[encoded data removed]"
          },
          "metadata": {}
        }
      ],
      "source": [
        "# PLotting the loss values for every training iterations\n",
        "\n",
        "loss_plot = [loss_hist[i] for i in range(len(loss_hist))]\n",
        "plt.xlabel(\"Iterations\")\n",
        "plt.ylabel(\"Loss function\")\n",
        "plt.plot(loss_plot)\n",
        "plt.show()"
      ]
    },
    {
      "cell_type": "markdown",
      "source": [
        "### 1.7. Plotting the histogram of loss"
      ],
      "metadata": {
        "id": "ymvI0qD3l3HT"
      }
    },
    {
      "cell_type": "code",
      "source": [
        "def mse_losses(X, y, w, b):\n",
        "    y_pred = np.dot(X, w.T) + b\n",
        "    losses = (y_pred - y)**2\n",
        "    return losses"
      ],
      "metadata": {
        "id": "ed3uwMuE0POa"
      },
      "execution_count": 13,
      "outputs": []
    },
    {
      "cell_type": "code",
      "source": [
        "import numpy as np\n",
        "import matplotlib.pyplot as plt\n",
        "\n",
        "# Compute squared error loss for linear regression\n",
        "loss_linear = mse_losses(X_test,y_test,w,b)\n",
        "\n",
        "# Plot histograms\n",
        "plt.figure(figsize=(12, 6))\n",
        "\n",
        "# Linear regression loss histogram\n",
        "plt.subplot(1, 2, 1)\n",
        "plt.hist(loss_linear[0], bins=20, color='blue', alpha=0.7, edgecolor='black')\n",
        "plt.title('Loss Histogram: Linear Regression')\n",
        "plt.xlabel('Squared Error Loss')\n",
        "plt.ylabel('Frequency')\n",
        "\n",
        "\n",
        "plt.tight_layout()\n",
        "plt.show()\n"
      ],
      "metadata": {
        "id": "CyGr8hffkllW",
        "colab": {
          "base_uri": "https://localhost:8080/",
          "height": 607
        },
        "outputId": "259c38a0-20c9-4264-bc39-7f3f7882e17d"
      },
      "execution_count": 14,
      "outputs": [
        {
          "output_type": "display_data",
          "data": {
            "text/plain": [
              "<Figure size 1200x600 with 1 Axes>"
            ],
            "image/png": "[encoded data removed]"
          },
          "metadata": {}
        }
      ]
    },
    {
      "cell_type": "markdown",
      "metadata": {
        "id": "BAVgq4HWCmDX"
      },
      "source": [
        "### 1.8 Experimenting with different values of the Hyperparemeters\n",
        "\n",
        "Previously, we have took the learning rate as 0.001. Now, you have to train the model again by taking learning rate as-\n",
        "\n",
        "\n",
        "1.   0.01\n",
        "2.   0.001\n",
        "\n",
        "\n",
        "After the model is trained, you have to compare the performance of the model with these chosen hyperparameters."
      ]
    },
    {
      "cell_type": "code",
      "execution_count": 15,
      "metadata": {
        "id": "K2QuEbE1Clxq",
        "colab": {
          "base_uri": "https://localhost:8080/",
          "height": 1000
        },
        "outputId": "b4af292c-84d6-4edd-aa01-4f6f92f5d90d"
      },
      "outputs": [
        {
          "output_type": "stream",
          "name": "stdout",
          "text": [
            "Iteration 0: Loss = 317.5855196315427\n",
            "Iteration 100: Loss = 75.06389362387131\n",
            "Iteration 200: Loss = 53.37697975548148\n",
            "Iteration 300: Loss = 48.58037466749049\n",
            "Iteration 400: Loss = 45.633009390611385\n",
            "Iteration 500: Loss = 43.31494957038086\n",
            "Iteration 600: Loss = 41.4396462284822\n",
            "Iteration 700: Loss = 39.91547633756785\n",
            "Iteration 800: Loss = 38.67331312881181\n",
            "Iteration 900: Loss = 37.658110321493695\n",
            "Iteration 1000: Loss = 36.8257905186691\n",
            "Iteration 1100: Loss = 36.1410242399023\n",
            "Iteration 1200: Loss = 35.575475674336964\n",
            "Iteration 1300: Loss = 35.1064030707656\n",
            "Iteration 1400: Loss = 34.71554085794155\n",
            "Iteration 1500: Loss = 34.38820653761686\n",
            "Iteration 1600: Loss = 34.11258699683715\n",
            "Iteration 1700: Loss = 33.879168059954225\n",
            "Iteration 1800: Loss = 33.68027841232848\n",
            "Iteration 1900: Loss = 33.509724859439316\n",
            "Iteration 2000: Loss = 33.36250053712446\n",
            "Iteration 2100: Loss = 33.234551399803756\n",
            "Iteration 2200: Loss = 33.12258927427151\n",
            "Iteration 2300: Loss = 33.02394212885051\n",
            "Iteration 2400: Loss = 32.93643409251261\n",
            "Iteration 2500: Loss = 32.85828926258499\n",
            "Iteration 2600: Loss = 32.78805453991149\n",
            "Iteration 2700: Loss = 32.72453768826863\n",
            "Iteration 2800: Loss = 32.66675757944475\n",
            "Iteration 2900: Loss = 32.61390419576419\n",
            "Iteration 3000: Loss = 32.56530644914915\n",
            "Iteration 3100: Loss = 32.52040626492532\n",
            "Iteration 3200: Loss = 32.47873768932938\n",
            "Iteration 3300: Loss = 32.439910027888565\n",
            "Iteration 3400: Loss = 32.40359422013875\n",
            "Iteration 3500: Loss = 32.36951181459744\n",
            "Iteration 3600: Loss = 32.33742603454831\n",
            "Iteration 3700: Loss = 32.307134526433416\n",
            "Iteration 3800: Loss = 32.278463463607075\n",
            "Iteration 3900: Loss = 32.251262742962105\n",
            "Iteration 4000: Loss = 32.22540206375484\n",
            "Iteration 4100: Loss = 32.200767719430914\n",
            "Iteration 4200: Loss = 32.177259966465876\n",
            "Iteration 4300: Loss = 32.15479086084093\n",
            "Iteration 4400: Loss = 32.133282474099104\n",
            "Iteration 4500: Loss = 32.11266541802753\n",
            "Iteration 4600: Loss = 32.09287762073267\n",
            "Iteration 4700: Loss = 32.07386330789105\n",
            "Iteration 4800: Loss = 32.05557215180912\n",
            "Iteration 4900: Loss = 32.03795855804146\n",
            "Iteration 5000: Loss = 32.02098106504256\n",
            "Iteration 5100: Loss = 32.004601836939614\n",
            "Iteration 5200: Loss = 31.98878623323061\n",
            "Iteration 5300: Loss = 31.97350244221309\n",
            "Iteration 5400: Loss = 31.958721167372264\n",
            "Iteration 5500: Loss = 31.944415357918423\n",
            "Iteration 5600: Loss = 31.93055997625113\n",
            "Iteration 5700: Loss = 31.917131796416648\n",
            "Iteration 5800: Loss = 31.90410922867092\n",
            "Iteration 5900: Loss = 31.891472166112464\n",
            "Iteration 6000: Loss = 31.87920185004348\n",
            "Iteration 6100: Loss = 31.867280751284426\n",
            "Iteration 6200: Loss = 31.855692465131412\n",
            "Iteration 6300: Loss = 31.844421618025944\n",
            "Iteration 6400: Loss = 31.833453784319463\n",
            "Iteration 6500: Loss = 31.822775411772575\n",
            "Iteration 6600: Loss = 31.812373754641722\n",
            "Iteration 6700: Loss = 31.802236813382155\n",
            "Iteration 6800: Loss = 31.79235328014226\n",
            "Iteration 6900: Loss = 31.782712489346245\n",
            "Iteration 7000: Loss = 31.773304372763587\n",
            "Iteration 7100: Loss = 31.76411941854903\n",
            "Iteration 7200: Loss = 31.755148633808354\n",
            "Iteration 7300: Loss = 31.746383510305364\n",
            "Iteration 7400: Loss = 31.737815992976458\n",
            "Iteration 7500: Loss = 31.72943845096252\n",
            "Iteration 7600: Loss = 31.72124365090436\n",
            "Iteration 7700: Loss = 31.7132247322795\n",
            "Iteration 7800: Loss = 31.705375184584693\n",
            "Iteration 7900: Loss = 31.697688826192095\n",
            "Iteration 8000: Loss = 31.690159784726166\n",
            "Iteration 8100: Loss = 31.68278247882627\n",
            "Iteration 8200: Loss = 31.6755516011743\n",
            "Iteration 8300: Loss = 31.668462102679907\n",
            "Iteration 8400: Loss = 31.661509177727112\n",
            "Iteration 8500: Loss = 31.654688250395782\n",
            "Iteration 8600: Loss = 31.647994961580533\n",
            "Iteration 8700: Loss = 31.641425156936798\n",
            "Iteration 8800: Loss = 31.63497487559077\n",
            "Iteration 8900: Loss = 31.628640339555943\n",
            "Iteration 9000: Loss = 31.62241794380396\n",
            "Iteration 9100: Loss = 31.61630424694247\n",
            "Iteration 9200: Loss = 31.610295962456725\n",
            "Iteration 9300: Loss = 31.604389950475415\n",
            "Iteration 9400: Loss = 31.598583210024554\n",
            "Iteration 9500: Loss = 31.59287287173625\n",
            "Iteration 9600: Loss = 31.587256190982036\n",
            "Iteration 9700: Loss = 31.58173054140245\n",
            "Iteration 9800: Loss = 31.576293408807388\n",
            "Iteration 9900: Loss = 31.570942385423077\n",
            "Manual Setup:\n",
            "Updated w:  [[-9.87979827  4.69753153 -9.70808702  8.92906327 -4.92246198]]\n",
            "Updated b:  [27.67884406]\n",
            "Manual Train Error:  31.56572742918806\n",
            "Manual Test Error:  24.903644963815232\n",
            "\n",
            "Random Setup:\n",
            "Train Error:  22.095716816137756\n",
            "Test Error:  14.629179503557742\n"
          ]
        },
        {
          "output_type": "display_data",
          "data": {
            "text/plain": [
              "<Figure size 1200x600 with 1 Axes>"
            ],
            "image/png": "[encoded data removed]"
          },
          "metadata": {}
        }
      ],
      "source": [
        "## CODE REQUIRED ##\n",
        "\n",
        "\"\"\"\n",
        "Compare the performance with the chosen hyperparameters.\n",
        "\"\"\"\n",
        "\n",
        "### START CODE HERE ###\n",
        "manual_r = 5\n",
        "manual_alpha = 0.01\n",
        "manual_num_iters = 10000\n",
        "\n",
        "X_manual = X[:, :manual_r]\n",
        "\n",
        "manual_initial_w = np.random.randn(1, X_manual.shape[1])\n",
        "manual_initial_b = np.random.randn(1)\n",
        "\n",
        "manual_w, manual_b, manual_loss_hist = batch_gradient_descent(\n",
        "    X_train[:, :manual_r], y_train, manual_initial_w, manual_initial_b, manual_alpha, manual_num_iters\n",
        ")\n",
        "\n",
        "manual_train_error = loss_function(X_train[:, :manual_r], y_train, manual_w, manual_b)\n",
        "manual_test_error = loss_function(X_test[:, :manual_r], y_test, manual_w, manual_b)\n",
        "\n",
        "print(\"Manual Setup:\")\n",
        "print(\"Updated w: \", manual_w)\n",
        "print(\"Updated b: \", manual_b)\n",
        "print(\"Manual Train Error: \", manual_train_error)\n",
        "print(\"Manual Test Error: \", manual_test_error)\n",
        "\n",
        "print(\"\\nRandom Setup:\")\n",
        "print(\"Train Error: \", train_error)\n",
        "print(\"Test Error: \", test_error)\n",
        "\n",
        "plt.figure(figsize=(12, 6))\n",
        "plt.plot([loss_hist[i] for i in range(len(loss_hist))], label='Random Hyperparameters')\n",
        "plt.plot([manual_loss_hist[i] for i in range(len(manual_loss_hist))], label='Manual Hyperparameters')\n",
        "plt.xlabel(\"Iterations\")\n",
        "plt.ylabel(\"Loss function\")\n",
        "plt.legend()\n",
        "plt.title(\"Loss comparison between Random and Manual Hyperparameters\")\n",
        "plt.show()\n",
        "\n",
        "### END CODE HERE ###"
      ]
    },
    {
      "cell_type": "markdown",
      "metadata": {
        "id": "S34KA2LlXXbR"
      },
      "source": [
        "## Task: Submitting Your Predictions\n",
        "\n",
        "After training your Linear Regression model on the provided training dataset, you have generate predictions for the test dataset named `housing_test.csv`, your final task is to save the predicted values for the test dataset in a file named `RollNo_Linear.csv`.\n",
        "\n",
        "### Instructions for Submission:\n",
        "1. **Format**:  \n",
        "   The `RollNo_Linear.csv` file should contain one prediction per line, corresponding to the order of the test dataset features provided to you. Ensure there are no extra spaces, commas, or blank lines.\n",
        "\n",
        "2. **File Name**:  \n",
        "The file must be named `RollNo_Linear.csv` exactly (case-sensitive).\n",
        "\n"
      ]
    },
    {
      "cell_type": "code",
      "execution_count": 16,
      "metadata": {
        "id": "Y0I1xsTIXXbR",
        "colab": {
          "base_uri": "https://localhost:8080/"
        },
        "outputId": "ba73f081-8940-472f-b52b-086fbfbc8b03"
      },
      "outputs": [
        {
          "output_type": "stream",
          "name": "stdout",
          "text": [
            "Predictions saved to '22CS30056_Linear.csv'\n"
          ]
        }
      ],
      "source": [
        "\"\"\"\n",
        "Write the code to save the predictions in required format\n",
        "\"\"\"\n",
        "### START CODE HERE ###\n",
        "# Load the test data\n",
        "test_df = pd.read_csv('content/housing_test.csv')\n",
        "X_test_data = test_df.values\n",
        "\n",
        "# Scale the test data using the same scaler as the training data\n",
        "X_test_scaled = min_max_scaler(X_test_data)  # Assuming this scaler function is defined\n",
        "\n",
        "# Make predictions\n",
        "y_pred_test = np.dot(X_test_scaled, w.T) + b\n",
        "\n",
        "# Convert predictions to a pandas DataFrame\n",
        "y_pred_df = pd.DataFrame(y_pred_test, columns=[\"Predictions\"])\n",
        "\n",
        "# Save predictions to a CSV file\n",
        "y_pred_df.to_csv('22CS30056_Linear.csv', index=False)\n",
        "\n",
        "print(\"Predictions saved to '22CS30056_Linear.csv'\")\n",
        "\n",
        "### END CODE HERE ###"
      ]
    },
    {
      "cell_type": "code",
      "source": [],
      "metadata": {
        "id": "uLKNG7tfzxCy"
      },
      "execution_count": 16,
      "outputs": []
    }
  ],
  "metadata": {
    "colab": {
      "provenance": []
    },
    "kernelspec": {
      "display_name": "Python 3 (ipykernel)",
      "language": "python",
      "name": "python3"
    },
    "language_info": {
      "codemirror_mode": {
        "name": "ipython",
        "version": 3
      },
      "file_extension": ".py",
      "mimetype": "text/x-python",
      "name": "python",
      "nbconvert_exporter": "python",
      "pygments_lexer": "ipython3",
      "version": "3.11.5"
    }
  },
  "nbformat": 4,
  "nbformat_minor": 0
}